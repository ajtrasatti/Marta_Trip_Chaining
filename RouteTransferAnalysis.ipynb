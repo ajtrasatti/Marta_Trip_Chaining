{
 "cells": [
  {
   "cell_type": "code",
   "execution_count": 56,
   "metadata": {},
   "outputs": [],
   "source": [
    "import numpy as np\n",
    "import pandas as pd\n",
    "from os.path import join\n",
    "import matplotlib.pyplot as plt\n",
    "import json\n",
    "from collections import defaultdict"
   ]
  },
  {
   "cell_type": "code",
   "execution_count": 57,
   "metadata": {},
   "outputs": [],
   "source": [
    "def transfer_count(arr, route_name):\n",
    "#     print(arr, route_name)\n",
    "    if route_name in arr:\n",
    "        ind = arr.index(route_name)\n",
    "#         print(ind, arr)\n",
    "        if ind > 0:\n",
    "            route_prev = arr[ind - 1]\n",
    "            transfers_to_from[route_prev][\"from\"] += 1\n",
    "        if ind < len(arr) - 1:\n",
    "            route_next = arr[ind + 1]\n",
    "            transfers_to_from[route_next][\"to\"] += 1\n",
    "    "
   ]
  },
  {
   "cell_type": "code",
   "execution_count": 65,
   "metadata": {},
   "outputs": [
    {
     "name": "stdout",
     "output_type": "stream",
     "text": [
      "5\n",
      "15\n",
      "39\n",
      "71\n",
      "73\n",
      "78\n",
      "83\n",
      "89\n",
      "110\n",
      "121\n",
      "196\n",
      "0\n"
     ]
    }
   ],
   "source": [
    "routes = [\"5\", \"15\", \"39\", \"71\", \"73\", \"78\", \"83\", \"89\", \"110\", \"121\", \"196\", \"0\"] # + [\"RED\",\"GOLD\",\"GREEN\",\"BLUE\"]\n",
    "mypath = \"Data\"\n",
    "filename = \"trips_April1-10.csv\"\n",
    "\n",
    "df = pd.read_csv(join(mypath,filename))\n",
    "with pd.ExcelWriter(join(mypath,'TransferAnalysis.xlsx')) as writer:\n",
    "    for route_name in routes:\n",
    "        print(route_name)\n",
    "        route_name = int(route_name)\n",
    "        transfers_to_from = defaultdict(lambda: {\"from\":0,\"to\":0})\n",
    "        routes_series = df.routes.apply(lambda x: json.loads(x))\n",
    "        routes_series.apply(lambda x: transfer_count(x,route_name))\n",
    "        df_results = pd.DataFrame(transfers_to_from).T.sort_values(\"from\",ascending=False)\n",
    "        df_results.to_excel(writer, sheet_name=str(route_name))"
   ]
  },
  {
   "cell_type": "code",
   "execution_count": null,
   "metadata": {},
   "outputs": [],
   "source": []
  },
  {
   "cell_type": "code",
   "execution_count": null,
   "metadata": {},
   "outputs": [],
   "source": []
  }
 ],
 "metadata": {
  "kernelspec": {
   "display_name": "Python 3",
   "language": "python",
   "name": "python3"
  },
  "language_info": {
   "codemirror_mode": {
    "name": "ipython",
    "version": 3
   },
   "file_extension": ".py",
   "mimetype": "text/x-python",
   "name": "python",
   "nbconvert_exporter": "python",
   "pygments_lexer": "ipython3",
   "version": "3.7.4"
  }
 },
 "nbformat": 4,
 "nbformat_minor": 4
}
