{
 "cells": [
  {
   "cell_type": "code",
   "execution_count": 38,
   "metadata": {},
   "outputs": [],
   "source": [
    "import numpy as np\n",
    "import pandas as pd\n",
    "from os.path import join\n",
    "import matplotlib.pyplot as plt"
   ]
  },
  {
   "cell_type": "code",
   "execution_count": 39,
   "metadata": {},
   "outputs": [],
   "source": [
    "mypath = \"Data\"\n",
    "filename = \"odx_df_test.csv\"\n",
    "\n",
    "some_dtypes = {'ARRIVAL_TM_HM':object}\n",
    "df = pd.read_csv(join(mypath,filename),parse_dates= ['APC_TIME','Transaction_dtm'])\n",
    "# df['Transaction_dtm'][0].month_name()\n",
    "# (df[\"APC_TIME\"][~df[\"APC_TIME\"].isnull()])[305]\n",
    "# type(df[\"APC_ROUTES\"][0])"
   ]
  },
  {
   "cell_type": "code",
   "execution_count": 45,
   "metadata": {},
   "outputs": [
    {
     "name": "stdout",
     "output_type": "stream",
     "text": [
      "34752\n",
      "3.505668738489871\n"
     ]
    }
   ],
   "source": [
    "# going to start with a data frame\n",
    "# trying to find the destionations of the origins of whole trips\n",
    "\n",
    "buzz_ids = set(df.Serial_Nbr)\n",
    "print(len(buzz_ids))\n",
    "print(len(df)/len(buzz_ids))"
   ]
  },
  {
   "cell_type": "code",
   "execution_count": null,
   "metadata": {},
   "outputs": [],
   "source": []
  },
  {
   "cell_type": "code",
   "execution_count": 56,
   "metadata": {},
   "outputs": [
    {
     "name": "stdout",
     "output_type": "stream",
     "text": [
      "CPU times: user 5.36 s, sys: 20.4 ms, total: 5.38 s\n",
      "Wall time: 5.38 s\n"
     ]
    }
   ],
   "source": [
    "%%time\n",
    "x = []\n",
    "for b,g in df.groupby('Serial_Nbr'):\n",
    "    x.append(len(g))\n",
    "    a = g"
   ]
  },
  {
   "cell_type": "code",
   "execution_count": 64,
   "metadata": {},
   "outputs": [
    {
     "data": {
      "text/html": [
       "<div>\n",
       "<style scoped>\n",
       "    .dataframe tbody tr th:only-of-type {\n",
       "        vertical-align: middle;\n",
       "    }\n",
       "\n",
       "    .dataframe tbody tr th {\n",
       "        vertical-align: top;\n",
       "    }\n",
       "\n",
       "    .dataframe thead th {\n",
       "        text-align: right;\n",
       "    }\n",
       "</style>\n",
       "<table border=\"1\" class=\"dataframe\">\n",
       "  <thead>\n",
       "    <tr style=\"text-align: right;\">\n",
       "      <th></th>\n",
       "      <th>Unnamed: 0</th>\n",
       "      <th>APC_ROUTES</th>\n",
       "      <th>APC_TIME</th>\n",
       "      <th>Dev_Operator</th>\n",
       "      <th>MEGA_STOP</th>\n",
       "      <th>Serial_Nbr</th>\n",
       "      <th>Transaction_dtm</th>\n",
       "      <th>bus_id</th>\n",
       "      <th>ctl_grp_short_desc</th>\n",
       "      <th>route_name</th>\n",
       "      <th>route_no</th>\n",
       "      <th>use_type_desc</th>\n",
       "    </tr>\n",
       "  </thead>\n",
       "  <tbody>\n",
       "    <tr>\n",
       "      <th>9773</th>\n",
       "      <td>10311311</td>\n",
       "      <td>143.0</td>\n",
       "      <td>2018-01-30 07:43:00</td>\n",
       "      <td>MARTA Bus</td>\n",
       "      <td>M5198</td>\n",
       "      <td>2147055196</td>\n",
       "      <td>2018-01-30 07:35:29</td>\n",
       "      <td>2503.0</td>\n",
       "      <td>Garage - Brady</td>\n",
       "      <td>Windward Park &amp; Ride</td>\n",
       "      <td>143.0</td>\n",
       "      <td>Entry (Tag On)</td>\n",
       "    </tr>\n",
       "    <tr>\n",
       "      <th>74737</th>\n",
       "      <td>23752</td>\n",
       "      <td>NaN</td>\n",
       "      <td>NaT</td>\n",
       "      <td>MARTA Rail</td>\n",
       "      <td>M268</td>\n",
       "      <td>2147055196</td>\n",
       "      <td>2018-01-30 18:10:20</td>\n",
       "      <td>NaN</td>\n",
       "      <td>Gate - North Springs</td>\n",
       "      <td>NaN</td>\n",
       "      <td>NaN</td>\n",
       "      <td>Exit (Tag Off)</td>\n",
       "    </tr>\n",
       "    <tr>\n",
       "      <th>42379</th>\n",
       "      <td>10307160</td>\n",
       "      <td>NaN</td>\n",
       "      <td>NaT</td>\n",
       "      <td>MARTA Bus</td>\n",
       "      <td>NaN</td>\n",
       "      <td>2147055196</td>\n",
       "      <td>2018-01-30 18:11:17</td>\n",
       "      <td>1485.0</td>\n",
       "      <td>Garage - Laredo</td>\n",
       "      <td>Windward Park &amp; Ride</td>\n",
       "      <td>143.0</td>\n",
       "      <td>Transfer</td>\n",
       "    </tr>\n",
       "  </tbody>\n",
       "</table>\n",
       "</div>"
      ],
      "text/plain": [
       "       Unnamed: 0  APC_ROUTES            APC_TIME Dev_Operator MEGA_STOP  \\\n",
       "9773     10311311       143.0 2018-01-30 07:43:00    MARTA Bus     M5198   \n",
       "74737       23752         NaN                 NaT   MARTA Rail      M268   \n",
       "42379    10307160         NaN                 NaT    MARTA Bus       NaN   \n",
       "\n",
       "       Serial_Nbr     Transaction_dtm  bus_id    ctl_grp_short_desc  \\\n",
       "9773   2147055196 2018-01-30 07:35:29  2503.0        Garage - Brady   \n",
       "74737  2147055196 2018-01-30 18:10:20     NaN  Gate - North Springs   \n",
       "42379  2147055196 2018-01-30 18:11:17  1485.0       Garage - Laredo   \n",
       "\n",
       "                 route_name  route_no   use_type_desc  \n",
       "9773   Windward Park & Ride     143.0  Entry (Tag On)  \n",
       "74737                   NaN       NaN  Exit (Tag Off)  \n",
       "42379  Windward Park & Ride     143.0        Transfer  "
      ]
     },
     "execution_count": 64,
     "metadata": {},
     "output_type": "execute_result"
    }
   ],
   "source": [
    "g.sort_values(\"Transaction_dtm\")"
   ]
  },
  {
   "cell_type": "code",
   "execution_count": 63,
   "metadata": {},
   "outputs": [
    {
     "data": {
      "text/plain": [
       "(array([0.0000e+00, 4.1210e+03, 1.1527e+04, 3.7800e+03, 7.0220e+03,\n",
       "        2.4070e+03, 2.7390e+03, 1.1780e+03, 9.8100e+02, 3.8400e+02,\n",
       "        2.2800e+02, 1.3900e+02, 9.3000e+01, 5.1000e+01, 3.9000e+01,\n",
       "        1.7000e+01, 1.8000e+01, 8.0000e+00, 1.1000e+01, 2.0000e+00,\n",
       "        1.0000e+00, 1.0000e+00, 3.0000e+00, 1.0000e+00, 0.0000e+00,\n",
       "        0.0000e+00, 0.0000e+00, 0.0000e+00, 1.0000e+00]),\n",
       " array([ 0,  1,  2,  3,  4,  5,  6,  7,  8,  9, 10, 11, 12, 13, 14, 15, 16,\n",
       "        17, 18, 19, 20, 21, 22, 23, 24, 25, 26, 27, 28, 29]),\n",
       " <a list of 29 Patch objects>)"
      ]
     },
     "execution_count": 63,
     "metadata": {},
     "output_type": "execute_result"
    },
    {
     "data": {
      "image/png": "[encoded data removed]",
      "text/plain": [
       "<Figure size 432x288 with 1 Axes>"
      ]
     },
     "metadata": {
      "needs_background": "light"
     },
     "output_type": "display_data"
    }
   ],
   "source": [
    "sorted((s,x.count(s)) for s in set(x))\n",
    "plt.hist(x,bins=range(30))"
   ]
  },
  {
   "cell_type": "code",
   "execution_count": null,
   "metadata": {},
   "outputs": [],
   "source": []
  }
 ],
 "metadata": {
  "kernelspec": {
   "display_name": "Python 3",
   "language": "python",
   "name": "python3"
  },
  "language_info": {
   "codemirror_mode": {
    "name": "ipython",
    "version": 3
   },
   "file_extension": ".py",
   "mimetype": "text/x-python",
   "name": "python",
   "nbconvert_exporter": "python",
   "pygments_lexer": "ipython3",
   "version": "3.6.7"
  }
 },
 "nbformat": 4,
 "nbformat_minor": 2
}
